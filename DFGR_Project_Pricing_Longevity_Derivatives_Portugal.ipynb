{
  "nbformat": 4,
  "nbformat_minor": 0,
  "metadata": {
    "colab": {
      "provenance": []
    },
    "kernelspec": {
      "name": "python3",
      "display_name": "Python 3"
    },
    "language_info": {
      "name": "python"
    }
  },
  "cells": [
    {
      "cell_type": "code",
      "source": [
        "from google.colab import drive\n",
        "drive.mount('/content/drive')"
      ],
      "metadata": {
        "colab": {
          "base_uri": "https://localhost:8080/"
        },
        "id": "wtrsKp4zuHgB",
        "outputId": "0e09f2eb-d99a-4317-f934-a26feebc27a7"
      },
      "execution_count": 1,
      "outputs": [
        {
          "output_type": "stream",
          "name": "stdout",
          "text": [
            "Mounted at /content/drive\n"
          ]
        }
      ]
    },
    {
      "cell_type": "code",
      "source": [
        "file_path = \"/content/drive/MyDrive/portugal_life_table.txt\""
      ],
      "metadata": {
        "id": "GH5LCuiwudJh"
      },
      "execution_count": 2,
      "outputs": []
    },
    {
      "cell_type": "code",
      "source": [
        "import pandas as pd\n",
        "import numpy as np\n",
        "import matplotlib.pyplot as plt\n",
        "from pathlib import Path\n",
        "\n",
        "file_path = Path(\"/content/drive/MyDrive/portugal_life_table.txt\")\n",
        "assert file_path.exists(), \" The HMD text file can’t be found — check the path.\"\n",
        "print(\"  File found:\", file_path)"
      ],
      "metadata": {
        "colab": {
          "base_uri": "https://localhost:8080/"
        },
        "id": "Dx0eZ5Qoi7c_",
        "outputId": "1e6c5606-414b-433c-f74d-b4c8c87dbf5a"
      },
      "execution_count": 3,
      "outputs": [
        {
          "output_type": "stream",
          "name": "stdout",
          "text": [
            "  File found: /content/drive/MyDrive/portugal_life_table.txt\n"
          ]
        }
      ]
    },
    {
      "cell_type": "code",
      "source": [
        "# Detect header line\n",
        "with open(file_path) as f:\n",
        "    header_line = 0\n",
        "    for i, line in enumerate(f):\n",
        "        if line.lower().startswith(\"year\"):\n",
        "            header_line = i\n",
        "            break\n",
        "print(\"Header is on line\", header_line)\n",
        "\n",
        "# Read the table from that header onward\n",
        "df = pd.read_csv(\n",
        "        file_path,\n",
        "        sep=r\"\\s+\",\n",
        "        skiprows=header_line,\n",
        "        na_values=\".\",\n",
        "    )\n",
        "print(df.head())\n",
        "print(\"Columns:\", df.columns.tolist())"
      ],
      "metadata": {
        "colab": {
          "base_uri": "https://localhost:8080/"
        },
        "id": "--boo0FbjIPY",
        "outputId": "cfebafaf-7a04-429d-d711-b752da319545"
      },
      "execution_count": 4,
      "outputs": [
        {
          "output_type": "stream",
          "name": "stdout",
          "text": [
            "Header is on line 0\n",
            "  Portugal, Life   tables  (period 1x1),   Total   Last modified:       12  \\\n",
            "0      Year  Age       mx       qx    ax      lx     dx        Lx       Tx   \n",
            "1      1940    0  0.14504  0.13177  0.31  100000  13177     90855  5138016   \n",
            "2      1940    1  0.04956  0.04836  0.50   86823   4199     84723  5047161   \n",
            "3      1940    2  0.01983  0.01964  0.50   82624   1623     81812  4962438   \n",
            "4      1940    3  0.01008  0.01003  0.50   81001    813     80595  4880626   \n",
            "\n",
            "     Dec  2024;  Methods  Protocol:  v6  (2017)  \n",
            "0     ex    NaN      NaN        NaN NaN     NaN  \n",
            "1  51.38    NaN      NaN        NaN NaN     NaN  \n",
            "2  58.13    NaN      NaN        NaN NaN     NaN  \n",
            "3  60.06    NaN      NaN        NaN NaN     NaN  \n",
            "4  60.25    NaN      NaN        NaN NaN     NaN  \n",
            "Columns: ['Portugal,', 'Life', 'tables', '(period', '1x1),', 'Total', 'Last', 'modified:', '12', 'Dec', '2024;', 'Methods', 'Protocol:', 'v6', '(2017)']\n"
          ]
        }
      ]
    },
    {
      "cell_type": "code",
      "source": [
        "# --- quick look at the raw columns\n",
        "print(\"Raw column names:\", list(df.columns))\n",
        "\n",
        "# --- normalise: strip spaces & force Title-case\n",
        "df.columns = df.columns.str.strip().str.capitalize()\n",
        "\n",
        "print(\"Cleaned column names:\", list(df.columns)[:8])  # preview first 8"
      ],
      "metadata": {
        "colab": {
          "base_uri": "https://localhost:8080/"
        },
        "id": "XsiqoWcfjyU4",
        "outputId": "6b606b45-bc5c-4d05-c122-303d7541cab7"
      },
      "execution_count": 5,
      "outputs": [
        {
          "output_type": "stream",
          "name": "stdout",
          "text": [
            "Raw column names: ['Portugal,', 'Life', 'tables', '(period', '1x1),', 'Total', 'Last', 'modified:', '12', 'Dec', '2024;', 'Methods', 'Protocol:', 'v6', '(2017)']\n",
            "Cleaned column names: ['Portugal,', 'Life', 'Tables', '(period', '1x1),', 'Total', 'Last', 'Modified:']\n"
          ]
        }
      ]
    },
    {
      "cell_type": "code",
      "source": [
        "# ---------------------------------------------------------------\n",
        "# Peek at the very first 20 lines so we see where the real header is\n",
        "# ---------------------------------------------------------------\n",
        "with open(file_path) as f:\n",
        "    for i in range(20):\n",
        "        print(f\"{i:>2}: {f.readline().rstrip()}\")"
      ],
      "metadata": {
        "colab": {
          "base_uri": "https://localhost:8080/"
        },
        "id": "U_6r3APul9WR",
        "outputId": "131b33dd-a845-4fec-9ad7-30c5f92dc0f7"
      },
      "execution_count": 6,
      "outputs": [
        {
          "output_type": "stream",
          "name": "stdout",
          "text": [
            " 0: Portugal, Life tables (period 1x1), Total\tLast modified: 12 Dec 2024;  Methods Protocol: v6 (2017)\n",
            " 1: \n",
            " 2:   Year          Age         mx       qx    ax      lx      dx      Lx       Tx     ex\n",
            " 3:   1940           0      0.14504  0.13177  0.31  100000   13177   90855  5138016  51.38\n",
            " 4:   1940           1      0.04956  0.04836  0.50   86823    4199   84723  5047161  58.13\n",
            " 5:   1940           2      0.01983  0.01964  0.50   82624    1623   81812  4962438  60.06\n",
            " 6:   1940           3      0.01008  0.01003  0.50   81001     813   80595  4880626  60.25\n",
            " 7:   1940           4      0.00657  0.00655  0.50   80188     525   79926  4800031  59.86\n",
            " 8:   1940           5      0.00436  0.00435  0.50   79663     346   79490  4720105  59.25\n",
            " 9:   1940           6      0.00362  0.00361  0.50   79317     286   79174  4640616  58.51\n",
            "10:   1940           7      0.00300  0.00300  0.50   79030     237   78912  4561442  57.72\n",
            "11:   1940           8      0.00265  0.00265  0.50   78794     209   78689  4482530  56.89\n",
            "12:   1940           9      0.00220  0.00219  0.50   78585     172   78498  4403841  56.04\n",
            "13:   1940          10      0.00229  0.00229  0.50   78412     179   78323  4325342  55.16\n",
            "14:   1940          11      0.00210  0.00209  0.50   78233     164   78151  4247020  54.29\n",
            "15:   1940          12      0.00186  0.00185  0.50   78069     145   77997  4168869  53.40\n",
            "16:   1940          13      0.00239  0.00238  0.50   77924     186   77832  4090872  52.50\n",
            "17:   1940          14      0.00219  0.00219  0.50   77739     170   77654  4013041  51.62\n",
            "18:   1940          15      0.00248  0.00248  0.50   77569     192   77472  3935387  50.73\n",
            "19:   1940          16      0.00288  0.00288  0.50   77376     223   77265  3857915  49.86\n"
          ]
        }
      ]
    },
    {
      "cell_type": "code",
      "source": [
        "# ---------------------------------------------------------------\n",
        "# Clean reload of the HMD file (header on line 2)\n",
        "# ---------------------------------------------------------------\n",
        "df = pd.read_csv(\n",
        "        file_path,\n",
        "        sep=r\"\\s+\",\n",
        "        skiprows=2,       # ← skip lines 0 and 1 only\n",
        "        na_values=\".\",    # HMD missing-value marker\n",
        ")\n",
        "\n",
        "# Normalise column names\n",
        "df.columns = df.columns.str.strip().str.capitalize()\n",
        "\n",
        "print(\"Columns:\", df.columns.tolist()[:10])\n",
        "print(df.head())"
      ],
      "metadata": {
        "colab": {
          "base_uri": "https://localhost:8080/"
        },
        "id": "3fXSfzmGmPoQ",
        "outputId": "0ef5414c-a922-406b-b1cb-361b9e9fc917"
      },
      "execution_count": 7,
      "outputs": [
        {
          "output_type": "stream",
          "name": "stdout",
          "text": [
            "Columns: ['Year', 'Age', 'Mx', 'Qx', 'Ax', 'Lx', 'Dx', 'Lx', 'Tx', 'Ex']\n",
            "   Year Age       Mx       Qx    Ax      Lx     Dx     Lx       Tx     Ex\n",
            "0  1940   0  0.14504  0.13177  0.31  100000  13177  90855  5138016  51.38\n",
            "1  1940   1  0.04956  0.04836  0.50   86823   4199  84723  5047161  58.13\n",
            "2  1940   2  0.01983  0.01964  0.50   82624   1623  81812  4962438  60.06\n",
            "3  1940   3  0.01008  0.01003  0.50   81001    813  80595  4880626  60.25\n",
            "4  1940   4  0.00657  0.00655  0.50   80188    525  79926  4800031  59.86\n"
          ]
        }
      ]
    },
    {
      "cell_type": "code",
      "source": [
        "# Make sure Year and Age are numeric\n",
        "df['Year'] = pd.to_numeric(df['Year'], errors='coerce')\n",
        "df['Age']  = pd.to_numeric(df['Age'],  errors='coerce')\n",
        "\n",
        "age_min, age_max   = 65, 100\n",
        "year_min, year_max = 1990, 2022   # covid years kept\n",
        "\n",
        "mask = (df['Age'].between(age_min, age_max) &\n",
        "        df['Year'].between(year_min, year_max))\n",
        "\n",
        "panel = df.loc[mask, ['Year', 'Age', 'Qx']].copy()\n",
        "panel['Mu'] = -np.log(1 - panel['Qx'].clip(upper=0.999999))\n",
        "\n",
        "mu_mat = panel.pivot(index='Age', columns='Year', values='Mu').sort_index()\n",
        "print(\"panel rows:\", len(panel))"
      ],
      "metadata": {
        "colab": {
          "base_uri": "https://localhost:8080/"
        },
        "id": "8PqkbQfQoK2S",
        "outputId": "611efe7b-d531-48bd-c1c5-06062ba306aa"
      },
      "execution_count": 8,
      "outputs": [
        {
          "output_type": "stream",
          "name": "stdout",
          "text": [
            "panel rows: 1188\n"
          ]
        }
      ]
    },
    {
      "cell_type": "markdown",
      "source": [
        "## Quick sanity-check"
      ],
      "metadata": {
        "id": "WJX1PzTFtead"
      }
    },
    {
      "cell_type": "code",
      "source": [
        "plt.figure(figsize=(7,4))\n",
        "plt.imshow(np.log(mu_mat), aspect='auto', origin='lower',\n",
        "           extent=[year_min, year_max, age_min, age_max])\n",
        "plt.colorbar(label='log μ')\n",
        "plt.title(\"Portugal force of mortality μₓ,ₜ  (log scale)\")\n",
        "plt.xlabel(\"Calendar year\"); plt.ylabel(\"Age\")\n",
        "plt.tight_layout(); plt.show()"
      ],
      "metadata": {
        "colab": {
          "base_uri": "https://localhost:8080/",
          "height": 380
        },
        "id": "rqkSzKDDoiHu",
        "outputId": "2242be43-c11c-437f-81b2-6e91ae71df79"
      },
      "execution_count": 9,
      "outputs": [
        {
          "output_type": "display_data",
          "data": {
            "text/plain": [
              "<Figure size 700x400 with 2 Axes>"
            ],
            "image/png": "[encoded data removed]"
          },
          "metadata": {}
        }
      ]
    },
    {
      "cell_type": "markdown",
      "source": [
        "## Extract μ₆₅,t & build the time grid"
      ],
      "metadata": {
        "id": "Ik1_PJsktYl-"
      }
    },
    {
      "cell_type": "code",
      "source": [
        "# ---------------------------------------------------------------\n",
        "# 6.  Age-65 mortality series and t-grid\n",
        "# ---------------------------------------------------------------\n",
        "age_ref = 65\n",
        "\n",
        "mu_series = mu_mat.loc[age_ref].dropna()   # pandas Series indexed by Year\n",
        "t_grid    = (mu_series.index - mu_series.index.min()).to_numpy(float)  # 0,1,…\n",
        "mu_obs    = mu_series.to_numpy()\n",
        "mu0       = mu_obs[0]\n",
        "\n",
        "print(f\"Start year = {mu_series.index.min()},  observations = {len(mu_obs)}\")\n",
        "print(f\"μ₀ (age 65) = {mu0:.5f}\")"
      ],
      "metadata": {
        "colab": {
          "base_uri": "https://localhost:8080/"
        },
        "id": "ZKIIAcRxo3EB",
        "outputId": "65d57ef4-d5af-4421-abde-6e2350572b63"
      },
      "execution_count": 10,
      "outputs": [
        {
          "output_type": "stream",
          "name": "stdout",
          "text": [
            "Start year = 1990,  observations = 33\n",
            "μ₀ (age 65) = 0.01815\n"
          ]
        }
      ]
    },
    {
      "cell_type": "markdown",
      "source": [
        "## Define the CIR & deterministic-expectation CIR-J generators"
      ],
      "metadata": {
        "id": "uLfUxjYhtTXz"
      }
    },
    {
      "cell_type": "code",
      "source": [
        "# ---------------------------------------------------------------\n",
        "# 7.  Model generators\n",
        "# ---------------------------------------------------------------\n",
        "import numpy as np\n",
        "\n",
        "def gen_mu_CIR(a, b, sigma, mu0, t_grid, seed=42):\n",
        "    dt  = 1.0\n",
        "    rng = np.random.default_rng(seed)\n",
        "    mu  = [mu0]\n",
        "    for _ in t_grid[1:]:\n",
        "        prev = mu[-1]\n",
        "        dW   = rng.normal(0, np.sqrt(dt))\n",
        "        dμ   = a*(b - prev)*dt + sigma*np.sqrt(max(prev,0))*dW\n",
        "        mu.append(max(prev + dμ, 1e-12))\n",
        "    return np.array(mu)\n",
        "\n",
        "def gen_mu_CIRJ_det(a, b, sigma, mu0, J, eta, t_grid):\n",
        "    dt  = 1.0\n",
        "    mu  = [mu0]\n",
        "    for _ in t_grid[1:]:\n",
        "        prev   = mu[-1]\n",
        "        drift  = a*(b - prev)*dt\n",
        "        jump   = J * eta * dt            # expected (λE[J]) dt\n",
        "        mu.append(prev + drift + jump)\n",
        "    return np.array(mu)\n"
      ],
      "metadata": {
        "id": "Mw4D5I6ro_wT"
      },
      "execution_count": 11,
      "outputs": []
    },
    {
      "cell_type": "markdown",
      "source": [
        "## Calibrate both models & plot survival curves"
      ],
      "metadata": {
        "id": "7pgR-tTctNdt"
      }
    },
    {
      "cell_type": "code",
      "source": [
        "# ---------------------------------------------------------------\n",
        "# 8.  Parameter calibration + diagnostic plot\n",
        "# ---------------------------------------------------------------\n",
        "from scipy.optimize import minimize\n",
        "from scipy.integrate import cumulative_trapezoid\n",
        "import matplotlib.pyplot as plt\n",
        "\n",
        "# helper: survival S(t) = exp(-∫ μ ds)\n",
        "def survival_from_mu(mu, t):\n",
        "    A = cumulative_trapezoid(mu, t, initial=0)\n",
        "    return np.exp(-A)\n",
        "\n",
        "# ---------- CIR calibration ----------\n",
        "def mse_CIR(params):\n",
        "    a,b,sigma = params\n",
        "    if a<=0 or b<=0 or sigma<0: return np.inf\n",
        "    mu_model = gen_mu_CIR(a,b,sigma, mu0, t_grid)\n",
        "    return np.mean((mu_obs - mu_model)**2)\n",
        "\n",
        "p0_CIR = (0.2, 0.02, 0.01)\n",
        "res_CIR = minimize(mse_CIR, p0_CIR, method='L-BFGS-B',\n",
        "                   bounds=[(1e-4,5), (1e-4,1), (0,1)])\n",
        "a,b,sigma = res_CIR.x\n",
        "print(\"CIR params:\", res_CIR.x)\n",
        "\n",
        "# ---------- CIR-J calibration ----------\n",
        "def mse_CIRJ(params):\n",
        "    a,b,sigma,J,eta = params\n",
        "    if min(a,b,J,eta)<=0 or sigma<0: return np.inf\n",
        "    mu_model = gen_mu_CIRJ_det(a,b,sigma, mu0, J, eta, t_grid)\n",
        "    return np.mean((mu_obs - mu_model)**2)\n",
        "\n",
        "p0_CIRJ = (*res_CIR.x, 0.003, 0.1)   # start search near CIR\n",
        "res_CIRJ = minimize(mse_CIRJ, p0_CIRJ, method='L-BFGS-B',\n",
        "                    bounds=[(1e-4,5), (1e-4,1), (0,1), (1e-4,1), (1e-4,1)])\n",
        "aJ,bJ,sigJ,J,eta = res_CIRJ.x\n",
        "print(\"CIR-J params:\", res_CIRJ.x)\n",
        "\n",
        "# ---------- fitted paths & survival ----------\n",
        "mu_CIR  = gen_mu_CIR(a,b,sigma, mu0, t_grid)\n",
        "mu_CIRJ = gen_mu_CIRJ_det(aJ,bJ,sigJ, mu0, J, eta, t_grid)\n",
        "\n",
        "S_obs  = survival_from_mu(mu_obs,  t_grid)\n",
        "S_CIR  = survival_from_mu(mu_CIR,  t_grid)\n",
        "S_CIRJ = survival_from_mu(mu_CIRJ, t_grid)\n",
        "\n",
        "plt.figure(figsize=(8,4))\n",
        "plt.plot(mu_series.index, S_obs,  'o', label='Observed')\n",
        "plt.plot(mu_series.index, S_CIR,  '--', label='CIR fit')\n",
        "plt.plot(mu_series.index, S_CIRJ, ':',  label='CIR-J fit')\n",
        "plt.title(\"Survival curve – age-65 cohort (Portugal, inc. COVID)\")\n",
        "plt.xlabel(\"Calendar year\"); plt.ylabel(\"S(t)\")\n",
        "plt.legend(); plt.grid(True); plt.tight_layout(); plt.show()\n",
        "\n",
        "print(f\"MSE  CIR   = {mse_CIR(res_CIR.x):.6g}\")\n",
        "print(f\"MSE  CIR-J = {mse_CIRJ(res_CIRJ.x):.6g}\")"
      ],
      "metadata": {
        "colab": {
          "base_uri": "https://localhost:8080/",
          "height": 396
        },
        "id": "Bes-W8ZjpDp3",
        "outputId": "478be26a-d212-41db-e705-dca79ba807de"
      },
      "execution_count": 12,
      "outputs": [
        {
          "output_type": "stream",
          "name": "stdout",
          "text": [
            "CIR params: [0.19909439 0.01113933 0.        ]\n",
            "CIR-J params: [0.05575829 0.00709375 0.         0.00017016 0.09993997]\n"
          ]
        },
        {
          "output_type": "display_data",
          "data": {
            "text/plain": [
              "<Figure size 800x400 with 1 Axes>"
            ],
            "image/png": "[encoded data removed]"
          },
          "metadata": {}
        },
        {
          "output_type": "stream",
          "name": "stdout",
          "text": [
            "MSE  CIR   = 2.25733e-06\n",
            "MSE  CIR-J = 3.47076e-07\n"
          ]
        }
      ]
    },
    {
      "cell_type": "markdown",
      "source": [
        "##  Monte-Carlo engine for risk-neutral survival"
      ],
      "metadata": {
        "id": "Sw3bk2p4tEW4"
      }
    },
    {
      "cell_type": "code",
      "source": [
        "# ---------------------------------------------------------------\n",
        "# 9.  Monte-Carlo paths under the CIR dynamics (no jumps yet)\n",
        "# ---------------------------------------------------------------\n",
        "n_paths   = 50_000          # increase later if you want tighter CI\n",
        "t_horizon = 35              # simulate up to age 100  (65 + 35)\n",
        "r         = 0.01            # flat discount rate for demo\n",
        "\n",
        "# pre-allocate\n",
        "S_hat = np.zeros(t_horizon + 1)   # E_Q[ S(t) ]   t = 0..35\n",
        "\n",
        "rng = np.random.default_rng(123)\n",
        "\n",
        "for path in range(n_paths):\n",
        "    mu_path = [mu0]\n",
        "    S_path  = [1.0]          # S(0) = 1\n",
        "    for t in range(1, t_horizon + 1):\n",
        "        prev  = mu_path[-1]\n",
        "        dW    = rng.normal(0, 1.0)          # √dt = 1\n",
        "        dμ    = a*(b - prev) + sigma*np.sqrt(max(prev,0))*dW\n",
        "        mu_t  = max(prev + dμ, 1e-12)\n",
        "        mu_path.append(mu_t)\n",
        "        # update survival  S(t) = S(t-1)*exp(-μ_{t-1})\n",
        "        S_path.append(S_path[-1] * np.exp(-prev))\n",
        "    S_hat += np.array(S_path)\n",
        "\n",
        "S_hat /= n_paths\n",
        "\n",
        "# quick check plot\n",
        "plt.figure(figsize=(6,3))\n",
        "plt.plot(range(t_horizon+1), S_hat, marker='.')\n",
        "plt.title(\"Risk-neutral survival E[S(t)] from CIR (65 → 100)\")\n",
        "plt.xlabel(\"Years ahead (t)\"); plt.ylabel(\"E_Q[S(t)]\")\n",
        "plt.grid(True); plt.tight_layout(); plt.show()\n"
      ],
      "metadata": {
        "colab": {
          "base_uri": "https://localhost:8080/",
          "height": 307
        },
        "id": "rAadniONpq8F",
        "outputId": "2afb7940-afcc-4208-bd37-d6856e179042"
      },
      "execution_count": 13,
      "outputs": [
        {
          "output_type": "display_data",
          "data": {
            "text/plain": [
              "<Figure size 600x300 with 1 Axes>"
            ],
            "image/png": "[encoded data removed]"
          },
          "metadata": {}
        }
      ]
    },
    {
      "cell_type": "markdown",
      "source": [
        "##  Price an S-forward & compute the par-swap fixed leg"
      ],
      "metadata": {
        "id": "qxfhxDtxs-fW"
      }
    },
    {
      "cell_type": "code",
      "source": [
        "# ---------------------------------------------------------------\n",
        "# 10.  S-forward (1-year maturity) & par-longevity-swap strike\n",
        "# ---------------------------------------------------------------\n",
        "notional = 1_000_000        # €1 m per index point\n",
        "\n",
        "# -------- 10a.  Single 1-year S-forward  -----------------------\n",
        "T  = 1                       # maturity 1 year\n",
        "ST = S_hat[T]                # model E_Q[S(T)]\n",
        "S0 = 1.0                     # S(0) for age-65 is 1 by definition\n",
        "discount = np.exp(-r*T)\n",
        "\n",
        "forward_price = discount * (ST - S0) * notional\n",
        "print(f\"S-forward value (receive realised S₁, pay fixed S₀):  €{forward_price:,.2f}\")\n",
        "\n",
        "# -------- 10b.  k-year par-swap strike  ------------------------\n",
        "# Present value of floating leg = Σ_t discount_t * (S(t) - S(t-1))\n",
        "df  = np.exp(-r * np.arange(1, t_horizon+1))\n",
        "float_leg_pv = np.sum(df * (S_hat[1:] - S_hat[:-1]))\n",
        "\n",
        "# Choose fixed-leg schedule as Δ×K  with same Δ = 1 and par strike K\n",
        "fixed_leg_annuity = np.sum(df)          # Σ discount_t\n",
        "K_par = float_leg_pv / fixed_leg_annuity\n",
        "print(f\"Par-swap fixed rate K (65-year-old, 35-yr tenor): {K_par:.6f}\")\n",
        "\n",
        "# -------- 10c.  Cash-flow profile visual  ----------------------\n",
        "cash_float = notional * (S_hat[1:] - S_hat[:-1])\n",
        "cash_fixed = -notional * K_par          # same amount each year\n",
        "\n",
        "plt.figure(figsize=(7,3))\n",
        "plt.bar(range(1, t_horizon+1), cash_float,  label=\"Floating (S realised)\")\n",
        "plt.bar(range(1, t_horizon+1), cash_fixed, label=f\"Fixed (K={K_par:.4f})\")\n",
        "plt.axhline(0, color='black')\n",
        "plt.title(\"Longevity swap cash-flows: floating vs par-fixed\")\n",
        "plt.xlabel(\"Years ahead\"); plt.ylabel(\"Cash flow (€)\")\n",
        "plt.legend(); plt.grid(True); plt.tight_layout(); plt.show()"
      ],
      "metadata": {
        "colab": {
          "base_uri": "https://localhost:8080/",
          "height": 315
        },
        "id": "U8UBRvLGp0SQ",
        "outputId": "0292c45b-c895-4c49-a2d9-ce8dc6e3a14c"
      },
      "execution_count": 14,
      "outputs": [
        {
          "output_type": "stream",
          "name": "stdout",
          "text": [
            "S-forward value (receive realised S₁, pay fixed S₀):  €-17,811.00\n",
            "Par-swap fixed rate K (65-year-old, 35-yr tenor): -0.010130\n"
          ]
        },
        {
          "output_type": "display_data",
          "data": {
            "text/plain": [
              "<Figure size 700x300 with 1 Axes>"
            ],
            "image/png": "[encoded data removed]"
          },
          "metadata": {}
        }
      ]
    },
    {
      "cell_type": "markdown",
      "source": [
        "## cell starter: β & θ"
      ],
      "metadata": {
        "id": "AMprLHB4s4Ff"
      }
    },
    {
      "cell_type": "code",
      "source": [
        "import numpy as np\n",
        "\n",
        "def h(phi):          # Eq (59) denominator helper\n",
        "    return np.sqrt(a**2 + 2*sigma**2*1j*phi)\n",
        "\n",
        "def q(phi):\n",
        "    return (a - h(phi)) / (a + h(phi))\n",
        "\n",
        "def beta(phi, tau):\n",
        "    hφ = h(phi)\n",
        "    num = (a - hφ)*(np.exp(hφ*tau) - 1)\n",
        "    den = sigma**2*(1 - q(phi)*np.exp(hφ*tau))\n",
        "    return num / den\n",
        "\n",
        "def theta(phi, tau):\n",
        "    # deterministic drift part (no jump yet)\n",
        "    return (b / sigma**2)*((a - h(phi))*tau - 2*np.log((1 - q(phi)*np.exp(h(phi)*tau))/(1 - q(phi))))"
      ],
      "metadata": {
        "id": "GXROYQBjqkl1"
      },
      "execution_count": 15,
      "outputs": []
    },
    {
      "cell_type": "code",
      "source": [
        "def g(phi, T):                 # characteristic function of μ_T\n",
        "    tau = T                    # because we start at t=0\n",
        "    return np.exp(theta(phi, tau) + beta(phi, tau) * mu0)"
      ],
      "metadata": {
        "id": "oKVITIWMrI_z"
      },
      "execution_count": 16,
      "outputs": []
    },
    {
      "cell_type": "code",
      "source": [
        "for T in [1, 5, 10, 20]:\n",
        "    print(T,  g(-1j, T).real,   S_hat[T])"
      ],
      "metadata": {
        "colab": {
          "base_uri": "https://localhost:8080/"
        },
        "id": "KgvkBKOtrPdP",
        "outputId": "dd32f8f7-d866-427c-d174-91d45a2c34d4"
      },
      "execution_count": 17,
      "outputs": [
        {
          "output_type": "stream",
          "name": "stdout",
          "text": [
            "1 nan 0.9820099999997474\n",
            "5 nan 0.9237459297636049\n",
            "10 nan 0.8669282307741227\n",
            "20 nan 0.7729020774106578\n"
          ]
        },
        {
          "output_type": "stream",
          "name": "stderr",
          "text": [
            "<ipython-input-15-3498655934>:17: RuntimeWarning: divide by zero encountered in scalar divide\n",
            "  return (b / sigma**2)*((a - h(phi))*tau - 2*np.log((1 - q(phi)*np.exp(h(phi)*tau))/(1 - q(phi))))\n",
            "<ipython-input-15-3498655934>:17: RuntimeWarning: invalid value encountered in scalar multiply\n",
            "  return (b / sigma**2)*((a - h(phi))*tau - 2*np.log((1 - q(phi)*np.exp(h(phi)*tau))/(1 - q(phi))))\n",
            "<ipython-input-15-3498655934>:13: RuntimeWarning: invalid value encountered in scalar divide\n",
            "  return num / den\n"
          ]
        }
      ]
    },
    {
      "cell_type": "code",
      "source": [
        "def theta(phi, tau):\n",
        "    diff = (b / sigma**2)*((a - h(phi))*tau\n",
        "           - 2*np.log((1 - q(phi)*np.exp(h(phi)*tau))/(1 - q(phi))))\n",
        "    jump = eta * tau * (J * 1j*phi / (1 - J * 1j*phi) - 1j*phi)\n",
        "    return diff + jump"
      ],
      "metadata": {
        "id": "oTYYFnHPrSXn"
      },
      "execution_count": 18,
      "outputs": []
    },
    {
      "cell_type": "code",
      "source": [
        "def survival_Q(T):           # analytic\n",
        "    return g(-1j, T).real\n",
        "\n",
        "def S_forward(T, notional=1_000_000):\n",
        "    ST = survival_Q(T)\n",
        "    S0 = 1.0\n",
        "    disc = np.exp(-r*T)\n",
        "    return disc * (ST - S0) * notional\n",
        "\n",
        "# compare to MC:\n",
        "print(S_forward(1), forward_price)"
      ],
      "metadata": {
        "colab": {
          "base_uri": "https://localhost:8080/"
        },
        "id": "kWRVnufvrVR0",
        "outputId": "f84f1082-b55a-4e06-d08f-4e07c3999b42"
      },
      "execution_count": 19,
      "outputs": [
        {
          "output_type": "stream",
          "name": "stdout",
          "text": [
            "nan -17810.996509397657\n"
          ]
        },
        {
          "output_type": "stream",
          "name": "stderr",
          "text": [
            "<ipython-input-18-4125714665>:2: RuntimeWarning: divide by zero encountered in scalar divide\n",
            "  diff = (b / sigma**2)*((a - h(phi))*tau\n",
            "<ipython-input-18-4125714665>:2: RuntimeWarning: invalid value encountered in scalar multiply\n",
            "  diff = (b / sigma**2)*((a - h(phi))*tau\n",
            "<ipython-input-15-3498655934>:13: RuntimeWarning: invalid value encountered in scalar divide\n",
            "  return num / den\n"
          ]
        }
      ]
    },
    {
      "cell_type": "code",
      "source": [
        "S_vec = np.array([survival_Q(t) for t in range(t_horizon+1)])\n",
        "float_leg_pv = np.sum(df * (S_vec[1:] - S_vec[:-1]))\n",
        "K_par_cf     = float_leg_pv / fixed_leg_annuity\n",
        "print(\"MC K =\", K_par,  \"  |  closed-form K =\", K_par_cf)"
      ],
      "metadata": {
        "colab": {
          "base_uri": "https://localhost:8080/"
        },
        "id": "7JRFaScQrYf8",
        "outputId": "5cd096e6-0814-4559-f969-e5fa57d1e901"
      },
      "execution_count": 20,
      "outputs": [
        {
          "output_type": "stream",
          "name": "stdout",
          "text": [
            "MC K = -0.010130182034694808   |  closed-form K = nan\n"
          ]
        },
        {
          "output_type": "stream",
          "name": "stderr",
          "text": [
            "<ipython-input-18-4125714665>:2: RuntimeWarning: divide by zero encountered in scalar divide\n",
            "  diff = (b / sigma**2)*((a - h(phi))*tau\n",
            "<ipython-input-18-4125714665>:2: RuntimeWarning: invalid value encountered in scalar multiply\n",
            "  diff = (b / sigma**2)*((a - h(phi))*tau\n",
            "<ipython-input-15-3498655934>:13: RuntimeWarning: invalid value encountered in scalar divide\n",
            "  return num / den\n"
          ]
        }
      ]
    },
    {
      "cell_type": "markdown",
      "source": [
        "## Patch β(φ, τ) and θ(φ, τ)"
      ],
      "metadata": {
        "id": "mVTus_w8sNhU"
      }
    },
    {
      "cell_type": "code",
      "source": [
        "def beta(phi, tau):\n",
        "    hφ  = h(phi)\n",
        "    exp = np.exp(-hφ * tau)           #  **minus** sign\n",
        "    num = (a - hφ) * (1 - exp)\n",
        "    den = sigma**2 * (1 - q(phi) * exp)\n",
        "    return num / den\n",
        "\n",
        "def theta(phi, tau):\n",
        "    hφ  = h(phi)\n",
        "    exp = np.exp(-hφ * tau)\n",
        "    diff = (b / sigma**2) * ((a - hφ) * tau - 2 * np.log((1 - q(phi) * exp) / (1 - q(phi))))\n",
        "    jump = eta * tau * (J * 1j*phi / (1 - J * 1j*phi) - 1j*phi)   # one-sided jump term\n",
        "    return diff + jump"
      ],
      "metadata": {
        "id": "E_77X8u9r3-7"
      },
      "execution_count": 21,
      "outputs": []
    },
    {
      "cell_type": "markdown",
      "source": [
        "## Check analytic vs Monte-Carlo survival"
      ],
      "metadata": {
        "id": "azgO9hb0sXbX"
      }
    },
    {
      "cell_type": "code",
      "source": [
        "def g(phi, T):\n",
        "    return np.exp(theta(phi, T) + beta(phi, T) * mu0)\n",
        "\n",
        "for T in [1, 5, 10, 20]:\n",
        "    print(f\"T={T:2d}  CF={g(-1j,T).real:.6f}   MC={S_hat[T]:.6f}\")"
      ],
      "metadata": {
        "colab": {
          "base_uri": "https://localhost:8080/"
        },
        "id": "FYIo9mJwr8L0",
        "outputId": "00c4cfcf-f673-4261-c688-a092033f9652"
      },
      "execution_count": 22,
      "outputs": [
        {
          "output_type": "stream",
          "name": "stdout",
          "text": [
            "T= 1  CF=nan   MC=0.982010\n",
            "T= 5  CF=nan   MC=0.923746\n",
            "T=10  CF=nan   MC=0.866928\n",
            "T=20  CF=nan   MC=0.772902\n"
          ]
        },
        {
          "output_type": "stream",
          "name": "stderr",
          "text": [
            "<ipython-input-21-618389438>:11: RuntimeWarning: divide by zero encountered in scalar divide\n",
            "  diff = (b / sigma**2) * ((a - hφ) * tau - 2 * np.log((1 - q(phi) * exp) / (1 - q(phi))))\n",
            "<ipython-input-21-618389438>:11: RuntimeWarning: invalid value encountered in scalar multiply\n",
            "  diff = (b / sigma**2) * ((a - hφ) * tau - 2 * np.log((1 - q(phi) * exp) / (1 - q(phi))))\n",
            "<ipython-input-21-618389438>:6: RuntimeWarning: invalid value encountered in scalar divide\n",
            "  return num / den\n"
          ]
        }
      ]
    },
    {
      "cell_type": "markdown",
      "source": [
        "## Replace Monte-Carlo forward & swap with closed-form"
      ],
      "metadata": {
        "id": "qZvSedJXsgOc"
      }
    },
    {
      "cell_type": "code",
      "source": [
        "def survival_Q(T):      # analytic survival prob\n",
        "    return g(-1j, T).real\n",
        "\n",
        "def S_forward(T, notional=1_000_000):\n",
        "    ST = survival_Q(T)\n",
        "    disc = np.exp(-r * T)\n",
        "    return disc * (ST - 1.0) * notional\n",
        "\n",
        "print(\"1-year S-forward  (CF vs MC):\",\n",
        "      S_forward(1),        forward_price)\n",
        "\n",
        "# par-swap strike\n",
        "S_vec = np.array([survival_Q(t) for t in range(t_horizon+1)])\n",
        "float_leg_pv  = np.sum(df * (S_vec[1:] - S_vec[:-1]))\n",
        "K_par_cf      = float_leg_pv / fixed_leg_annuity\n",
        "print(\"Par-swap K  (CF vs MC):\", K_par_cf, K_par)"
      ],
      "metadata": {
        "colab": {
          "base_uri": "https://localhost:8080/"
        },
        "id": "cKXoBMY8r_1o",
        "outputId": "52420583-d82e-4abf-e1f1-282e0fdbf59e"
      },
      "execution_count": 23,
      "outputs": [
        {
          "output_type": "stream",
          "name": "stdout",
          "text": [
            "1-year S-forward  (CF vs MC): nan -17810.996509397657\n",
            "Par-swap K  (CF vs MC): nan -0.010130182034694808\n"
          ]
        },
        {
          "output_type": "stream",
          "name": "stderr",
          "text": [
            "<ipython-input-21-618389438>:11: RuntimeWarning: divide by zero encountered in scalar divide\n",
            "  diff = (b / sigma**2) * ((a - hφ) * tau - 2 * np.log((1 - q(phi) * exp) / (1 - q(phi))))\n",
            "<ipython-input-21-618389438>:11: RuntimeWarning: invalid value encountered in scalar multiply\n",
            "  diff = (b / sigma**2) * ((a - hφ) * tau - 2 * np.log((1 - q(phi) * exp) / (1 - q(phi))))\n",
            "<ipython-input-21-618389438>:6: RuntimeWarning: invalid value encountered in scalar divide\n",
            "  return num / den\n"
          ]
        }
      ]
    },
    {
      "cell_type": "markdown",
      "source": [
        "## Next milestone: caplets / floorlets"
      ],
      "metadata": {
        "id": "XSgAaCiwsl0m"
      }
    },
    {
      "cell_type": "code",
      "source": [
        "from scipy.integrate import quad\n",
        "\n",
        "def caplet_price(T, K, alpha=1.5):\n",
        "    '''\n",
        "    Price of a longevity caplet on S(T) with strike K\n",
        "    alpha > 1  for convergence  (paper uses 1.5)\n",
        "    '''\n",
        "    def integrand(u):\n",
        "        phi = u - 1j * (alpha + 1)\n",
        "        numer = np.exp(-1j * u * np.log(K)) * g(phi, T)\n",
        "        denom = alpha**2 + alpha - u**2 + 1j * u * (2*alpha + 1)\n",
        "        return (numer / denom).real\n",
        "    integral, _ = quad(integrand, 0, np.inf, limit=200)\n",
        "    df_T = np.exp(-r * T)\n",
        "    return (np.exp(-alpha * np.log(K)) / np.pi) * df_T * integral"
      ],
      "metadata": {
        "id": "NJxA7TGHsGKk"
      },
      "execution_count": 24,
      "outputs": []
    },
    {
      "cell_type": "markdown",
      "source": [
        "## Analytic vs Monte-Carlo sanity checks"
      ],
      "metadata": {
        "id": "E8OjLnRKuJBX"
      }
    },
    {
      "cell_type": "code",
      "source": [
        "# ---- survival probability check -----------------------------------\n",
        "for T in [1, 5, 10, 20]:\n",
        "    print(f\"T={T:2d}  CF={g(-1j,T).real:0.6f}   MC={S_hat[T]:0.6f}\")\n",
        "\n",
        "# ---- S-forward PV comparison --------------------------------------\n",
        "print(\"\\n1-yr S-fwd  CF  = \", S_forward(1))\n",
        "print(\"1-yr S-fwd  MC  = \", forward_price)\n",
        "\n",
        "# ---- par-swap fixed-rate K ----------------------------------------\n",
        "print(\"\\nPar-swap K  (CF) =\", K_par_cf)\n",
        "print(\"Par-swap K  (MC) =\", K_par)"
      ],
      "metadata": {
        "colab": {
          "base_uri": "https://localhost:8080/"
        },
        "id": "DyfnaZBIuFbS",
        "outputId": "40e886a6-5867-4f8b-c4ba-a7244b6ee785"
      },
      "execution_count": 25,
      "outputs": [
        {
          "output_type": "stream",
          "name": "stdout",
          "text": [
            "T= 1  CF=nan   MC=0.982010\n",
            "T= 5  CF=nan   MC=0.923746\n",
            "T=10  CF=nan   MC=0.866928\n",
            "T=20  CF=nan   MC=0.772902\n",
            "\n",
            "1-yr S-fwd  CF  =  nan\n",
            "1-yr S-fwd  MC  =  -17810.996509397657\n",
            "\n",
            "Par-swap K  (CF) = nan\n",
            "Par-swap K  (MC) = -0.010130182034694808\n"
          ]
        },
        {
          "output_type": "stream",
          "name": "stderr",
          "text": [
            "<ipython-input-21-618389438>:11: RuntimeWarning: divide by zero encountered in scalar divide\n",
            "  diff = (b / sigma**2) * ((a - hφ) * tau - 2 * np.log((1 - q(phi) * exp) / (1 - q(phi))))\n",
            "<ipython-input-21-618389438>:11: RuntimeWarning: invalid value encountered in scalar multiply\n",
            "  diff = (b / sigma**2) * ((a - hφ) * tau - 2 * np.log((1 - q(phi) * exp) / (1 - q(phi))))\n",
            "<ipython-input-21-618389438>:6: RuntimeWarning: invalid value encountered in scalar divide\n",
            "  return num / den\n"
          ]
        }
      ]
    },
    {
      "cell_type": "markdown",
      "source": [
        "## Price one caplet & inspect the number"
      ],
      "metadata": {
        "id": "bhRjjLGLuTxr"
      }
    },
    {
      "cell_type": "code",
      "source": [
        "T  = 10           # 10-year maturity\n",
        "K  = 0.80         # strike (80 % survival prob)\n",
        "cap_val = caplet_price(T, K)\n",
        "print(f\"10-yr caplet (K={K}) value per €1 m notional: €{cap_val:,.0f}\")"
      ],
      "metadata": {
        "colab": {
          "base_uri": "https://localhost:8080/"
        },
        "id": "AeY-DG7aua3A",
        "outputId": "00ba95f4-1a62-422f-feb7-66f2582bebe5"
      },
      "execution_count": 26,
      "outputs": [
        {
          "output_type": "stream",
          "name": "stdout",
          "text": [
            "10-yr caplet (K=0.8) value per €1 m notional: €nan\n"
          ]
        },
        {
          "output_type": "stream",
          "name": "stderr",
          "text": [
            "<ipython-input-21-618389438>:11: RuntimeWarning: divide by zero encountered in scalar divide\n",
            "  diff = (b / sigma**2) * ((a - hφ) * tau - 2 * np.log((1 - q(phi) * exp) / (1 - q(phi))))\n",
            "<ipython-input-21-618389438>:11: RuntimeWarning: invalid value encountered in scalar multiply\n",
            "  diff = (b / sigma**2) * ((a - hφ) * tau - 2 * np.log((1 - q(phi) * exp) / (1 - q(phi))))\n",
            "<ipython-input-21-618389438>:6: RuntimeWarning: invalid value encountered in scalar divide\n",
            "  return num / den\n",
            "<ipython-input-24-2956914967>:13: IntegrationWarning: The occurrence of roundoff error is detected, which prevents \n",
            "  the requested tolerance from being achieved.  The error may be \n",
            "  underestimated.\n",
            "  integral, _ = quad(integrand, 0, np.inf, limit=200)\n"
          ]
        }
      ]
    },
    {
      "cell_type": "markdown",
      "source": [
        "## Build a mini Table — par-swap rates by tenor"
      ],
      "metadata": {
        "id": "jQYg1ZnUugwK"
      }
    },
    {
      "cell_type": "code",
      "source": [
        "tenors = [5, 10, 20, 30, 35]    # years ahead\n",
        "swap_K = []\n",
        "for n in tenors:\n",
        "    S_vec = np.array([survival_Q(t) for t in range(n+1)])\n",
        "    float_leg = np.sum(np.exp(-r * np.arange(1,n+1)) * (S_vec[1:] - S_vec[:-1]))\n",
        "    K_par_n  = float_leg / np.sum(np.exp(-r * np.arange(1,n+1)))\n",
        "    swap_K.append(K_par_n)\n",
        "\n",
        "print(\"\\nPar-swap fixed rates for age-65 Portuguese cohort\")\n",
        "for n,k in zip(tenors, swap_K):\n",
        "    print(f\"{n:2d}-yr  K = {k:0.6f}\")"
      ],
      "metadata": {
        "colab": {
          "base_uri": "https://localhost:8080/"
        },
        "id": "vaTf3_BSulw4",
        "outputId": "c5e1821c-caa7-4e1e-86d5-a71d2428d583"
      },
      "execution_count": 27,
      "outputs": [
        {
          "output_type": "stream",
          "name": "stdout",
          "text": [
            "\n",
            "Par-swap fixed rates for age-65 Portuguese cohort\n",
            " 5-yr  K = nan\n",
            "10-yr  K = nan\n",
            "20-yr  K = nan\n",
            "30-yr  K = nan\n",
            "35-yr  K = nan\n"
          ]
        },
        {
          "output_type": "stream",
          "name": "stderr",
          "text": [
            "<ipython-input-21-618389438>:11: RuntimeWarning: divide by zero encountered in scalar divide\n",
            "  diff = (b / sigma**2) * ((a - hφ) * tau - 2 * np.log((1 - q(phi) * exp) / (1 - q(phi))))\n",
            "<ipython-input-21-618389438>:11: RuntimeWarning: invalid value encountered in scalar multiply\n",
            "  diff = (b / sigma**2) * ((a - hφ) * tau - 2 * np.log((1 - q(phi) * exp) / (1 - q(phi))))\n",
            "<ipython-input-21-618389438>:6: RuntimeWarning: invalid value encountered in scalar divide\n",
            "  return num / den\n"
          ]
        }
      ]
    },
    {
      "cell_type": "markdown",
      "source": [
        "## refit with a strictly positive σ"
      ],
      "metadata": {
        "id": "tCLdPbsqvK4k"
      }
    },
    {
      "cell_type": "code",
      "source": [
        "# --- 1. Re-run the CIR optimisation, but force sigma ≥ 1e-6 -----------\n",
        "p0_CIR = (0.2, 0.02, 0.01)\n",
        "res_CIR = minimize(mse_CIR, p0_CIR, method='L-BFGS-B',\n",
        "                   bounds=[(1e-4,5), (1e-4,1), (1e-6,1)])   # note 1e-6\n",
        "\n",
        "a,b,sigma = res_CIR.x\n",
        "print(\"σ (diffusion vol)  =\", sigma)\n",
        "\n",
        "# --- 2. Do the same for CIR-J ---------------------------------------\n",
        "p0_CIRJ = (*res_CIR.x, 0.003, 0.1)\n",
        "res_CIRJ = minimize(mse_CIRJ, p0_CIRJ, method='L-BFGS-B',\n",
        "                    bounds=[(1e-4,5), (1e-4,1), (1e-6,1), (1e-4,1), (1e-4,1)])\n",
        "aJ,bJ,sigJ,J,eta = res_CIRJ.x\n",
        "print(\"σ_J =\", sigJ)"
      ],
      "metadata": {
        "colab": {
          "base_uri": "https://localhost:8080/"
        },
        "id": "JlJcP3O8vJ6P",
        "outputId": "735f0edc-5e9f-49b7-d041-7a1c344bef8c"
      },
      "execution_count": 28,
      "outputs": [
        {
          "output_type": "stream",
          "name": "stdout",
          "text": [
            "σ (diffusion vol)  = 1e-06\n",
            "σ_J = 1e-06\n"
          ]
        }
      ]
    },
    {
      "cell_type": "code",
      "source": [
        "for T in [1,5,10,20]:\n",
        "    print(f\"T={T:2d}  CF={g(-1j,T).real:0.6f}   MC={S_hat[T]:0.6f}\")"
      ],
      "metadata": {
        "colab": {
          "base_uri": "https://localhost:8080/"
        },
        "id": "Vm9Lcb9VvU9d",
        "outputId": "f601d8eb-038e-490e-94c4-fda8991e57b6"
      },
      "execution_count": 29,
      "outputs": [
        {
          "output_type": "stream",
          "name": "stdout",
          "text": [
            "T= 1  CF=0.885499   MC=0.982010\n",
            "T= 5  CF=0.517018   MC=0.923746\n",
            "T=10  CF=0.247879   MC=0.866928\n",
            "T=20  CF=0.053335   MC=0.772902\n"
          ]
        }
      ]
    },
    {
      "cell_type": "code",
      "source": [
        "def S_CIR_CF(T, a, b, sigma, mu0):\n",
        "    h  = np.sqrt(a**2 + 2*sigma**2)\n",
        "    B  = 2*(np.exp(h*T)-1) / ((a+h)*(np.exp(h*T)-1) + 2*h)\n",
        "    A  = 2*a*b/ sigma**2 * np.log( 2*h*np.exp((a+h)*T/2)\n",
        "                                   / ((a+h)*(np.exp(h*T)-1)+2*h) )\n",
        "    return np.exp(-A - B*mu0)"
      ],
      "metadata": {
        "id": "jMj_mzv6vzdK"
      },
      "execution_count": 30,
      "outputs": []
    },
    {
      "cell_type": "code",
      "source": [
        "for T in [1,5,10,20]:\n",
        "    print(f\"T={T:2d}  CF={S_CIR_CF(T,a,b,sigma,mu0):.6f}   MC={S_hat[T]:.6f}\")"
      ],
      "metadata": {
        "colab": {
          "base_uri": "https://localhost:8080/"
        },
        "id": "KDDG4RTUv4hJ",
        "outputId": "836ad058-85b4-4a0a-f0b7-7c3a0cfb60de"
      },
      "execution_count": 31,
      "outputs": [
        {
          "output_type": "stream",
          "name": "stdout",
          "text": [
            "T= 1  CF=0.984695   MC=0.982010\n",
            "T= 5  CF=0.963615   MC=0.923746\n",
            "T=10  CF=0.984477   MC=0.866928\n",
            "T=20  CF=1.081554   MC=0.772902\n"
          ]
        }
      ]
    },
    {
      "cell_type": "code",
      "source": [
        "print(\"1-yr S-fwd CF =\", S_forward(1), \"   MC =\", forward_price)"
      ],
      "metadata": {
        "colab": {
          "base_uri": "https://localhost:8080/"
        },
        "id": "Z21OtKMWv8TD",
        "outputId": "f7b7e5ce-4f1a-4922-c0a8-076ff7ecaa41"
      },
      "execution_count": 32,
      "outputs": [
        {
          "output_type": "stream",
          "name": "stdout",
          "text": [
            "1-yr S-fwd CF = -113361.38329178591    MC = -17810.996509397657\n"
          ]
        }
      ]
    },
    {
      "cell_type": "markdown",
      "source": [
        "## Point survival_Q() to the correct formula"
      ],
      "metadata": {
        "id": "mGMWjZlXwl-V"
      }
    },
    {
      "cell_type": "code",
      "source": [
        "def survival_Q(T):\n",
        "    \"\"\"Risk-neutral survival probability S(T) under CIR diffusion.\"\"\"\n",
        "    return S_CIR_CF(T, a, b, sigma, mu0)"
      ],
      "metadata": {
        "id": "o9UUT_smwhN8"
      },
      "execution_count": 33,
      "outputs": []
    },
    {
      "cell_type": "code",
      "source": [
        "for T in [1,5,10,20]:\n",
        "    print(f\"T={T:2d}  S_Q={survival_Q(T):.6f}   MC={S_hat[T]:.6f}\")"
      ],
      "metadata": {
        "colab": {
          "base_uri": "https://localhost:8080/"
        },
        "id": "jSoHu90gwsF7",
        "outputId": "6734085e-000f-442d-c286-b3edd29a25d5"
      },
      "execution_count": 34,
      "outputs": [
        {
          "output_type": "stream",
          "name": "stdout",
          "text": [
            "T= 1  S_Q=0.984695   MC=0.982010\n",
            "T= 5  S_Q=0.963615   MC=0.923746\n",
            "T=10  S_Q=0.984477   MC=0.866928\n",
            "T=20  S_Q=1.081554   MC=0.772902\n"
          ]
        }
      ]
    },
    {
      "cell_type": "markdown",
      "source": [
        "## Re-calculate forward PV & par-swap K"
      ],
      "metadata": {
        "id": "Z4_odTyJw0_-"
      }
    },
    {
      "cell_type": "code",
      "source": [
        "# ---- 1-year S-forward --------------------------------\n",
        "print(\"1-yr S-fwd  CF =\", S_forward(1), \"  MC =\", forward_price)\n",
        "\n",
        "# ---- par-swap K (35-yr tenor) -------------------------\n",
        "S_vec  = np.array([survival_Q(t) for t in range(t_horizon+1)])\n",
        "float_leg_pv = np.sum(df * (S_vec[1:] - S_vec[:-1]))\n",
        "K_par_cf     = float_leg_pv / fixed_leg_annuity\n",
        "print(\"Par-swap K (CF) =\", K_par_cf, \"   (MC) =\", K_par)"
      ],
      "metadata": {
        "colab": {
          "base_uri": "https://localhost:8080/"
        },
        "id": "_lcD2MkMw4VT",
        "outputId": "547f7fd7-c192-411b-9f41-baa97ac5c4e6"
      },
      "execution_count": 35,
      "outputs": [
        {
          "output_type": "stream",
          "name": "stdout",
          "text": [
            "1-yr S-fwd  CF = -15152.624758642218   MC = -17810.996509397657\n",
            "Par-swap K (CF) = 0.0072233788893506885    (MC) = -0.010130182034694808\n"
          ]
        }
      ]
    },
    {
      "cell_type": "markdown",
      "source": [
        "## Caplet integral sanity check"
      ],
      "metadata": {
        "id": "KDkGYyjUw947"
      }
    },
    {
      "cell_type": "code",
      "source": [
        "cap_val = caplet_price(T=10, K=0.80)\n",
        "print(\"10-yr caplet value per €1 m:\", cap_val)"
      ],
      "metadata": {
        "colab": {
          "base_uri": "https://localhost:8080/"
        },
        "id": "C_9vQTAGxBjB",
        "outputId": "a566ff56-ae3e-4266-e247-dd81a67a4260"
      },
      "execution_count": 36,
      "outputs": [
        {
          "output_type": "stream",
          "name": "stdout",
          "text": [
            "10-yr caplet value per €1 m: -1.5581901999633e-07\n"
          ]
        },
        {
          "output_type": "stream",
          "name": "stderr",
          "text": [
            "<ipython-input-24-2956914967>:13: IntegrationWarning: The maximum number of subdivisions (200) has been achieved.\n",
            "  If increasing the limit yields no improvement it is advised to analyze \n",
            "  the integrand in order to determine the difficulties.  If the position of a \n",
            "  local difficulty can be determined (singularity, discontinuity) one will \n",
            "  probably gain from splitting up the interval and calling the integrator \n",
            "  on the subranges.  Perhaps a special-purpose integrator should be used.\n",
            "  integral, _ = quad(integrand, 0, np.inf, limit=200)\n"
          ]
        }
      ]
    },
    {
      "cell_type": "markdown",
      "source": [
        "## Mini swap-rate table"
      ],
      "metadata": {
        "id": "uVxgRYOWxHYZ"
      }
    },
    {
      "cell_type": "code",
      "source": [
        "tenors = [5, 10, 20, 30, 35]\n",
        "swap_K = []\n",
        "for n in tenors:\n",
        "    S_vec = np.array([survival_Q(t) for t in range(n+1)])\n",
        "    float_leg = np.sum(np.exp(-r * np.arange(1,n+1)) * (S_vec[1:] - S_vec[:-1]))\n",
        "    K_par_n   = float_leg / np.sum(np.exp(-r * np.arange(1,n+1)))\n",
        "    swap_K.append(K_par_n)\n",
        "\n",
        "print(\"\\nPar-swap fixed rates (diffusion-only CIR)\")\n",
        "for n,k in zip(tenors, swap_K):\n",
        "    print(f\"{n:2d}-yr K = {k:0.6f}\")"
      ],
      "metadata": {
        "colab": {
          "base_uri": "https://localhost:8080/"
        },
        "id": "ZEqSEhQWxK91",
        "outputId": "fcab6630-b085-4f12-e3b3-ccfcb72b2a3b"
      },
      "execution_count": 37,
      "outputs": [
        {
          "output_type": "stream",
          "name": "stdout",
          "text": [
            "\n",
            "Par-swap fixed rates (diffusion-only CIR)\n",
            " 5-yr K = -0.007349\n",
            "10-yr K = -0.001745\n",
            "20-yr K = 0.003678\n",
            "30-yr K = 0.006313\n",
            "35-yr K = 0.007223\n"
          ]
        }
      ]
    },
    {
      "cell_type": "markdown",
      "source": [
        "##  include jumps in S(T)"
      ],
      "metadata": {
        "id": "gwvAjhiixRXP"
      }
    },
    {
      "cell_type": "code",
      "source": [
        "from scipy.integrate import solve_ivp\n",
        "\n",
        "def laplace_intensity(T, u=1.0):\n",
        "    # ODE system: dΦ/dt , dΨ/dt  (Eq 38 in the paper)\n",
        "    def rhs(t, y):\n",
        "        Φ, Ψ = y\n",
        "        dΦ = a*b*Ψ + eta * (J*Ψ / (1 - J*Ψ) - Ψ)\n",
        "        dΨ = -a*Ψ - 0.5*sigma**2*Ψ**2 + u\n",
        "        return [dΦ, dΨ]\n",
        "    sol = solve_ivp(rhs, [0, T], [0, 0], t_eval=[T])\n",
        "    ΦT, ΨT = sol.y[:, -1]\n",
        "    return np.exp(-ΦT - ΨT * mu0)"
      ],
      "metadata": {
        "id": "acTmiQRYxaPG"
      },
      "execution_count": 38,
      "outputs": []
    },
    {
      "cell_type": "markdown",
      "source": [
        "## plug in the ODE laplace solver"
      ],
      "metadata": {
        "id": "vxJo564eyEZ0"
      }
    },
    {
      "cell_type": "code",
      "source": [
        "survival_Q = laplace_intensity   # replaces the diffusion-only shortcut\n"
      ],
      "metadata": {
        "id": "3uiPrL7WyL14"
      },
      "execution_count": 39,
      "outputs": []
    },
    {
      "cell_type": "markdown",
      "source": [
        "## Caplet integral: out-of-the-money strike"
      ],
      "metadata": {
        "id": "cr2Fr48HykNm"
      }
    },
    {
      "cell_type": "code",
      "source": [
        "for K in [0.95, 0.90, 0.85]:\n",
        "    print(f\"K={K}  cap10 = {caplet_price(10,K):10.2f} €\")"
      ],
      "metadata": {
        "colab": {
          "base_uri": "https://localhost:8080/"
        },
        "id": "VWgDalEeyn6-",
        "outputId": "30485648-d8b9-4c95-abb5-afb5eb190718"
      },
      "execution_count": 40,
      "outputs": [
        {
          "output_type": "stream",
          "name": "stderr",
          "text": [
            "<ipython-input-24-2956914967>:13: IntegrationWarning: The maximum number of subdivisions (200) has been achieved.\n",
            "  If increasing the limit yields no improvement it is advised to analyze \n",
            "  the integrand in order to determine the difficulties.  If the position of a \n",
            "  local difficulty can be determined (singularity, discontinuity) one will \n",
            "  probably gain from splitting up the interval and calling the integrator \n",
            "  on the subranges.  Perhaps a special-purpose integrator should be used.\n",
            "  integral, _ = quad(integrand, 0, np.inf, limit=200)\n"
          ]
        },
        {
          "output_type": "stream",
          "name": "stdout",
          "text": [
            "K=0.95  cap10 =      -0.00 €\n",
            "K=0.9  cap10 =       0.00 €\n",
            "K=0.85  cap10 =       0.00 €\n"
          ]
        }
      ]
    },
    {
      "cell_type": "markdown",
      "source": [
        "## Overwrite caplet_price with the finite cut-off"
      ],
      "metadata": {
        "id": "vPfIBGXzzmec"
      }
    },
    {
      "cell_type": "code",
      "source": [
        "from scipy.integrate import quad\n",
        "\n",
        "def caplet_price(T, K, alpha=1.5, u_max=50):\n",
        "    \"\"\"\n",
        "    Longevity caplet value on S(T) (receive max(S(T)–K,0))\n",
        "    Bravo & Nunes (2021) Eq. (22)\n",
        "    - alpha > 1 ensures integrand decays\n",
        "    - u_max  : finite cut-off; 0→50 covers >99.9 % of mass for α≈1.5\n",
        "    \"\"\"\n",
        "    def integrand(u):\n",
        "        phi = u - 1j*(alpha + 1)\n",
        "        numer = np.exp(-1j*u*np.log(K)) * g(phi, T)\n",
        "        denom = alpha**2 + alpha - u**2 + 1j*u*(2*alpha + 1)\n",
        "        return (numer / denom).real\n",
        "\n",
        "    integral, _ = quad(integrand, 0, u_max, limit=200)\n",
        "    df_T = np.exp(-r*T)\n",
        "    return (np.exp(-alpha*np.log(K)) / np.pi) * df_T * integral"
      ],
      "metadata": {
        "id": "X8y1kKtvzpp5"
      },
      "execution_count": 41,
      "outputs": []
    },
    {
      "cell_type": "markdown",
      "source": [
        "## Price strikes that are in-the-money"
      ],
      "metadata": {
        "id": "j6bMKlA4ztvH"
      }
    },
    {
      "cell_type": "code",
      "source": [
        "for K in [0.95, 0.90, 0.85, 0.80]:\n",
        "    print(f\"K={K:4.2f}   cap10 = €{caplet_price(10,K):,.2f}\")"
      ],
      "metadata": {
        "colab": {
          "base_uri": "https://localhost:8080/"
        },
        "id": "5yUzdnQzzwj9",
        "outputId": "af15568c-0eae-48e4-8f29-2a259dd15c91"
      },
      "execution_count": 42,
      "outputs": [
        {
          "output_type": "stream",
          "name": "stdout",
          "text": [
            "K=0.95   cap10 = €0.00\n",
            "K=0.90   cap10 = €-0.00\n",
            "K=0.85   cap10 = €0.00\n",
            "K=0.80   cap10 = €-0.00\n"
          ]
        }
      ]
    },
    {
      "cell_type": "code",
      "source": [
        "# crude Monte-Carlo price for sanity\n",
        "def mc_caplet(T, K, paths=20000):\n",
        "    payoff = []\n",
        "    rng = np.random.default_rng(0)\n",
        "    for _ in range(paths):\n",
        "        mu_path = [mu0]\n",
        "        S = 1.0\n",
        "        for t in range(1, T+1):\n",
        "            prev = mu_path[-1]\n",
        "            dW   = rng.normal(0, 1.0)\n",
        "            dμ   = a*(b-prev) + sigma*np.sqrt(max(prev,0))*dW\n",
        "            mu_t = max(prev+dμ, 1e-12)\n",
        "            mu_path.append(mu_t)\n",
        "            S *= np.exp(-prev)\n",
        "        payoff.append(max(S-K, 0))\n",
        "    return np.exp(-r*T) * np.mean(payoff) * 1_000_000  # per €1 m notional\n",
        "\n",
        "print(\"MC 10-yr caplet K=0.85  → \", mc_caplet(10, 0.85))\n",
        "print(\"Fourier caplet          → \", caplet_price(10, 0.85))"
      ],
      "metadata": {
        "colab": {
          "base_uri": "https://localhost:8080/"
        },
        "id": "eOeR7xDA0RMj",
        "outputId": "a2850191-3843-4e66-8c1d-ab0f1611ed93"
      },
      "execution_count": 43,
      "outputs": [
        {
          "output_type": "stream",
          "name": "stdout",
          "text": [
            "MC 10-yr caplet K=0.85  →  15317.369436316032\n",
            "Fourier caplet          →  3.529135564757901e-06\n"
          ]
        }
      ]
    },
    {
      "cell_type": "code",
      "source": [
        "from scipy.integrate import solve_ivp\n",
        "\n",
        "def L_Lambda(u, T):\n",
        "    \"\"\"\n",
        "    Laplace transform   E[ e^{-u ∫_0^T μ_s ds} ]   for (complex) u.\n",
        "    Solves the Riccati pair   dΦ/dt , dΨ/dt   in Eq (38) of the paper.\n",
        "    \"\"\"\n",
        "    u = complex(u)                       # allow u to be complex\n",
        "\n",
        "    def riccati(t, y):\n",
        "        Φ, Ψ = y\n",
        "        dΦ = a*b*Ψ + eta * (J*Ψ/(1 - J*Ψ) - Ψ)         # jump term\n",
        "        dΨ = -a*Ψ - 0.5*sigma**2*Ψ**2 + u\n",
        "        return [dΦ, dΨ]\n",
        "\n",
        "    sol = solve_ivp(riccati, [0, T], [0, 0], t_eval=[T])\n",
        "    ΦT, ΨT = sol.y[:, -1]\n",
        "    return np.exp(-ΦT - ΨT*mu0)"
      ],
      "metadata": {
        "id": "Ppp62skt0vV5"
      },
      "execution_count": 44,
      "outputs": []
    },
    {
      "cell_type": "code",
      "source": [
        "from scipy.integrate import quad\n",
        "\n",
        "def caplet_price(T, K, alpha=1.5, u_max=50):\n",
        "    \"\"\"\n",
        "    Bravo & Nunes (2021) Eq (22) – now with the **correct** Laplace transform.\n",
        "    \"\"\"\n",
        "    def integrand(u):\n",
        "        phi = u - 1j*(alpha + 1)\n",
        "        numer = np.exp(-1j*u*np.log(K)) * L_Lambda(phi, T)   # <-- corrected\n",
        "        denom = alpha**2 + alpha - u**2 + 1j*u*(2*alpha + 1)\n",
        "        return (numer / denom).real\n",
        "\n",
        "    integral, _ = quad(integrand, 0, u_max, limit=200)\n",
        "    df_T = np.exp(-r*T)\n",
        "    return (np.exp(-alpha*np.log(K)) / np.pi) * df_T * integral"
      ],
      "metadata": {
        "id": "lir7mKT60xoN"
      },
      "execution_count": 45,
      "outputs": []
    },
    {
      "cell_type": "code",
      "source": [
        "print(\"MC  cap10 K=0.85  → €\", mc_caplet(10, 0.85))\n",
        "print(\"FFT cap10 K=0.85  → €\", caplet_price(10, 0.85))\n"
      ],
      "metadata": {
        "colab": {
          "base_uri": "https://localhost:8080/"
        },
        "id": "nxhcVz70015A",
        "outputId": "5931ec99-0737-4b24-f84c-6a7d1bd12146"
      },
      "execution_count": 46,
      "outputs": [
        {
          "output_type": "stream",
          "name": "stdout",
          "text": [
            "MC  cap10 K=0.85  → € 15317.369436316032\n"
          ]
        },
        {
          "output_type": "stream",
          "name": "stderr",
          "text": [
            "/usr/local/lib/python3.11/dist-packages/scipy/integrate/_ivp/base.py:23: ComplexWarning: Casting complex values to real discards the imaginary part\n",
            "  return np.asarray(fun(t, y), dtype=dtype)\n"
          ]
        },
        {
          "output_type": "stream",
          "name": "stdout",
          "text": [
            "FFT cap10 K=0.85  → € 6.921661243658368e+53\n"
          ]
        }
      ]
    },
    {
      "cell_type": "code",
      "source": [
        "from scipy.integrate import solve_ivp\n",
        "import numpy as np\n",
        "\n",
        "def L_Lambda(u, T):\n",
        "    \"\"\"\n",
        "    Laplace transform  E[exp(-u ∫ μ ds)]   for complex u.\n",
        "    Splits Re/Im so solve_ivp gets a real state vector.\n",
        "    \"\"\"\n",
        "    u = complex(u)                         # allow u to be complex\n",
        "    ur, ui = u.real, u.imag                # split once\n",
        "\n",
        "    def rhs(t, y):\n",
        "        Φr, Φi, Ψr, Ψi = y                 # unpack\n",
        "        Φ  = Φr + 1j*Φi\n",
        "        Ψ  = Ψr + 1j*Ψi\n",
        "\n",
        "        dΦ = a*b*Ψ + eta*(J*Ψ/(1-J*Ψ) - Ψ)\n",
        "        dΨ = -a*Ψ - 0.5*sigma**2*Ψ**2 + (ur + 1j*ui)\n",
        "\n",
        "        return [dΦ.real, dΦ.imag, dΨ.real, dΨ.imag]\n",
        "\n",
        "    y0 = [0, 0, 0, 0]\n",
        "    sol = solve_ivp(rhs, [0, T], y0, t_eval=[T])\n",
        "    ΦrT, ΦiT, ΨrT, ΨiT = sol.y[:, -1]\n",
        "    ΦT,  ΨT  = ΦrT + 1j*ΦiT,  ΨrT + 1j*ΨiT\n",
        "\n",
        "    return np.exp(-ΦT - ΨT*mu0)\n"
      ],
      "metadata": {
        "id": "U8O2-Pg_1p0X"
      },
      "execution_count": 47,
      "outputs": []
    },
    {
      "cell_type": "code",
      "source": [
        "print(\"MC  cap10 K=0.85  → €\", mc_caplet(10, 0.85))\n",
        "print(\"FFT cap10 K=0.85 → €\", caplet_price(10, 0.85))\n"
      ],
      "metadata": {
        "colab": {
          "base_uri": "https://localhost:8080/"
        },
        "id": "uua8OUVu1r1-",
        "outputId": "6fb68f59-e08d-4ee3-a27b-dd7a3d253483"
      },
      "execution_count": 48,
      "outputs": [
        {
          "output_type": "stream",
          "name": "stdout",
          "text": [
            "MC  cap10 K=0.85  → € 15317.369436316032\n",
            "FFT cap10 K=0.85 → € -4.2302255657390326e+53\n"
          ]
        }
      ]
    },
    {
      "cell_type": "markdown",
      "source": [
        "## Use the closed-form CIR Laplace transform for ∫μ ds"
      ],
      "metadata": {
        "id": "P9v-ZUaZ2LPm"
      }
    },
    {
      "cell_type": "code",
      "source": [
        "def S_CIR_Laplace(T):\n",
        "    h  = np.sqrt(a**2 + 2*sigma**2)\n",
        "    B  = 2*(np.exp(h*T)-1) / ((a+h)*(np.exp(h*T)-1)+2*h)\n",
        "    A  = 2*a*b/sigma**2 * np.log( 2*h*np.exp((a+h)*T/2)\n",
        "                                  / ((a+h)*(np.exp(h*T)-1)+2*h) )\n",
        "    return np.exp(-A - B*mu0)\n",
        "\n",
        "# risk-neutral survival used for fwd+swap\n",
        "survival_Q = S_CIR_Laplace\n"
      ],
      "metadata": {
        "id": "3a2Mi6J82SW1"
      },
      "execution_count": 49,
      "outputs": []
    },
    {
      "cell_type": "markdown",
      "source": [
        "## Keep the corrected caplet integral (sign-fixed, finite u-max)"
      ],
      "metadata": {
        "id": "GbFoO-VE2U1Z"
      }
    },
    {
      "cell_type": "code",
      "source": [
        "def caplet_price(T, K, alpha=6.0, u_max=0.8):\n",
        "    \"\"\"\n",
        "    Stable Bravo-Nunes caplet, returns € per €1 m notional.\n",
        "      – Laplace of ∫μ in numerator\n",
        "      – heavy damping  α = 6\n",
        "      – very short strip 0…0.8  (never approaches the singularity)\n",
        "    \"\"\"\n",
        "    def integrand(u):\n",
        "        phi   = u - 1j*(alpha + 1)\n",
        "        numer = np.exp(-1j*u*np.log(K)) * L_Lambda(phi, T)\n",
        "        denom = alpha**2 + alpha - u**2 + 1j*u*(2*alpha + 1)\n",
        "        return (numer / denom).real\n",
        "\n",
        "    val,_ = quad(integrand, 0, u_max, limit=200)\n",
        "    return np.exp(-alpha*np.log(K))*np.exp(-r*T)*val/np.pi * 1_000_000"
      ],
      "metadata": {
        "id": "fEm2fOHKRrB1"
      },
      "execution_count": 50,
      "outputs": []
    },
    {
      "cell_type": "code",
      "source": [
        "print(\"Monte-Carlo :\", mc_caplet(10, 0.85))\n",
        "print(\"Fourier     :\", caplet_price(10, 0.85))"
      ],
      "metadata": {
        "colab": {
          "base_uri": "https://localhost:8080/"
        },
        "id": "t3Mef1FVRt90",
        "outputId": "2cab374c-5093-4bb9-c6b1-e2ffec884dd0"
      },
      "execution_count": 51,
      "outputs": [
        {
          "output_type": "stream",
          "name": "stdout",
          "text": [
            "Monte-Carlo : 15317.369436316032\n",
            "Fourier     : 50802.526835604884\n"
          ]
        }
      ]
    },
    {
      "cell_type": "code",
      "source": [
        "survival_Q = S_CIR_Laplace\n"
      ],
      "metadata": {
        "id": "PlyJf7XeSmzc"
      },
      "execution_count": 52,
      "outputs": []
    },
    {
      "cell_type": "code",
      "source": [
        "def caplet_price(T, K, alpha=5.0, u_max=2):\n",
        "    def integrand(u):\n",
        "        phi   = u - 1j*(alpha + 1)\n",
        "        numer = np.exp(-1j*u*np.log(K)) * g(phi, T)   # ← μ-CF\n",
        "        denom = alpha**2 + alpha - u**2 + 1j*u*(2*alpha + 1)\n",
        "        return (numer/denom).real\n",
        "    val,_ = quad(integrand, 0, u_max, limit=200)\n",
        "    return np.exp(-alpha*np.log(K))*np.exp(-r*T)*val/np.pi * 1_000_000"
      ],
      "metadata": {
        "id": "f_i269H4SnuS"
      },
      "execution_count": 53,
      "outputs": []
    },
    {
      "cell_type": "code",
      "source": [
        "# ---------- closed-form CIR Laplace (diffusion only) ----------\n",
        "def S_CIR_Laplace(T):\n",
        "    h  = np.sqrt(a**2 + 2*sigma**2)\n",
        "    B  = 2*(np.exp(h*T)-1) / ((a+h)*(np.exp(h*T)-1) + 2*h)\n",
        "    A  = 2*a*b/sigma**2 * np.log( 2*h*np.exp((a+h)*T/2)\n",
        "                                  / ((a+h)*(np.exp(h*T)-1) + 2*h) )\n",
        "    return np.exp(-A - B*mu0)\n",
        "\n",
        "survival_Q = S_CIR_Laplace          # ← use everywhere for fwd / swap"
      ],
      "metadata": {
        "id": "S0s9SN4CTMJP"
      },
      "execution_count": 54,
      "outputs": []
    },
    {
      "cell_type": "code",
      "source": [
        "from scipy.integrate import quad\n",
        "\n",
        "def caplet_price(T, K, alpha=5.0, u_max=2.0):\n",
        "    \"\"\"\n",
        "    Bravo-Nunes caplet on S(T) – **diffusion only**\n",
        "      • μ-characteristic-function g(φ,T) in numerator\n",
        "      • heavy damping  α = 5\n",
        "      • strip 0…2  (well clear of the pole)\n",
        "      • returns € value per €1 m notional (same scale as mc_caplet)\n",
        "    \"\"\"\n",
        "    def integrand(u):\n",
        "        phi   = u - 1j*(alpha + 1)\n",
        "        numer = np.exp(-1j*u*np.log(K)) * g(phi, T)   # <- μ-CF\n",
        "        denom = alpha**2 + alpha - u**2 + 1j*u*(2*alpha + 1)\n",
        "        return (numer / denom).real\n",
        "\n",
        "    val, _ = quad(integrand, 0, u_max, limit=200)\n",
        "    return np.exp(-alpha*np.log(K)) * np.exp(-r*T) * val / np.pi * 1_000_000"
      ],
      "metadata": {
        "id": "FJf9KjJrTN-4"
      },
      "execution_count": 55,
      "outputs": []
    },
    {
      "cell_type": "code",
      "source": [
        "print(\"Monte-Carlo :\", mc_caplet(10, 0.85))   # diffusion MC already in notebook\n",
        "print(\"Fourier     :\", caplet_price(10, 0.85))\n"
      ],
      "metadata": {
        "colab": {
          "base_uri": "https://localhost:8080/"
        },
        "id": "2n1S7D9bTQOT",
        "outputId": "350824f3-ca4a-49c1-ec75-ade521ffd83e"
      },
      "execution_count": 56,
      "outputs": [
        {
          "output_type": "stream",
          "name": "stdout",
          "text": [
            "Monte-Carlo : 15317.369436316032\n",
            "Fourier     : 0.116547447307804\n"
          ]
        }
      ]
    },
    {
      "cell_type": "code",
      "source": [
        "# --- par-swap fixed rates -------------------------------------------------\n",
        "tenors = [5, 10, 20, 30, 35]\n",
        "swap_K = []\n",
        "for n in tenors:\n",
        "    S_vec = np.array([survival_Q(t) for t in range(n+1)])\n",
        "    disc  = np.exp(-r*np.arange(1, n+1))\n",
        "    float_leg = np.sum(disc * (S_vec[1:] - S_vec[:-1]))\n",
        "    K_par     = float_leg / np.sum(disc)\n",
        "    swap_K.append(K_par)\n",
        "\n",
        "print(\"Par-swap fixed rates (diffusion CIR)  –  age-65 Portuguese cohort\")\n",
        "for n, k in zip(tenors, swap_K):\n",
        "    print(f\"{n:2d}-yr  K = {k:0.6f}\")\n",
        "\n",
        "# --- caplet grid (optional) ----------------------------------------------\n",
        "maturities = [5, 10, 20]\n",
        "strikes    = [0.95, 0.90, 0.85, 0.80]\n",
        "\n",
        "print(\"\\nCaplet value (€ per €1 m) – diffusion CIR\")\n",
        "for T in maturities:\n",
        "    row = [f\"T={T:2d}-yr\"] + [f\"{caplet_price(T,K):8.0f}\" for K in strikes]\n",
        "    print(*row, sep=\"   \")\n"
      ],
      "metadata": {
        "colab": {
          "base_uri": "https://localhost:8080/"
        },
        "id": "dKuPP0X9TRj7",
        "outputId": "0466076b-c295-4d65-d7d2-a390237b932b"
      },
      "execution_count": 57,
      "outputs": [
        {
          "output_type": "stream",
          "name": "stdout",
          "text": [
            "Par-swap fixed rates (diffusion CIR)  –  age-65 Portuguese cohort\n",
            " 5-yr  K = -0.007349\n",
            "10-yr  K = -0.001745\n",
            "20-yr  K = 0.003678\n",
            "30-yr  K = 0.006313\n",
            "35-yr  K = 0.007223\n",
            "\n",
            "Caplet value (€ per €1 m) – diffusion CIR\n",
            "T= 5-yr        239        341        493        723\n",
            "T=10-yr         -0         -0          0          1\n",
            "T=20-yr          0          0         -0         -0\n"
          ]
        }
      ]
    },
    {
      "cell_type": "code",
      "source": [
        "# Generate survival vector from CIR closed-form\n",
        "T_range = np.arange(t_horizon + 1)\n",
        "S_CIR_CF_vec = np.array([S_CIR_CF(T, a, b, sigma, mu0) for T in T_range])\n",
        "\n",
        "# Plot\n",
        "plt.figure(figsize=(8, 4))\n",
        "plt.plot(T_range, S_hat, label='Monte Carlo (S_hat)', marker='o')\n",
        "plt.plot(T_range, S_CIR_CF_vec, label='Closed-form (CIR)', linestyle='--')\n",
        "plt.title(\"Comparison of Risk-Neutral Survival Curves\")\n",
        "plt.xlabel(\"Years Ahead (t)\")\n",
        "plt.ylabel(\"Survival Probability S(t)\")\n",
        "plt.legend()\n",
        "plt.grid(True)\n",
        "plt.tight_layout()\n",
        "plt.show()\n"
      ],
      "metadata": {
        "colab": {
          "base_uri": "https://localhost:8080/",
          "height": 328
        },
        "id": "YYnBbikoiKW1",
        "outputId": "a45567b8-1aa1-43a8-cdd6-93cadbfce8aa"
      },
      "execution_count": 58,
      "outputs": [
        {
          "output_type": "display_data",
          "data": {
            "text/plain": [
              "<Figure size 800x400 with 1 Axes>"
            ],
            "image/png": "[encoded data removed]"
          },
          "metadata": {}
        }
      ]
    },
    {
      "cell_type": "code",
      "source": [
        "# Define strike levels and maturity\n",
        "strikes = [0.95, 0.90, 0.85, 0.80]\n",
        "T = 10\n",
        "\n",
        "# Compute caplet prices using both methods\n",
        "caplet_mc = [mc_caplet(T, K, paths=10000) for K in strikes]\n",
        "caplet_fft = [caplet_price(T, K) for K in strikes]\n",
        "\n",
        "# Plot\n",
        "x = np.arange(len(strikes))\n",
        "width = 0.35\n",
        "\n",
        "plt.figure(figsize=(8, 4))\n",
        "plt.bar(x - width/2, caplet_mc, width, label='Monte Carlo')\n",
        "plt.bar(x + width/2, caplet_fft, width, label='Fourier Transform')\n",
        "plt.xticks(x, [f\"K = {K:.2f}\" for K in strikes])\n",
        "plt.ylabel(\"Caplet Price (€)\")\n",
        "plt.title(\"10-Year Caplet Prices: Monte Carlo vs Fourier Method\")\n",
        "plt.legend()\n",
        "plt.grid(True)\n",
        "plt.tight_layout()\n",
        "plt.show()\n"
      ],
      "metadata": {
        "colab": {
          "base_uri": "https://localhost:8080/",
          "height": 328
        },
        "id": "v9YmU9nniOTr",
        "outputId": "d098fbb4-3594-4bef-fb2d-dcf8db70c250"
      },
      "execution_count": 59,
      "outputs": [
        {
          "output_type": "display_data",
          "data": {
            "text/plain": [
              "<Figure size 800x400 with 1 Axes>"
            ],
            "image/png": "[encoded data removed]"
          },
          "metadata": {}
        }
      ]
    }
  ]
}